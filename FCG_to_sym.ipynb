{
 "cells": [
  {
   "cell_type": "code",
   "execution_count": 1,
   "metadata": {},
   "outputs": [],
   "source": [
    "import networkx as nx\n",
    "import copy\n",
    "from tqdm import tqdm\n",
    "import matplotlib.pyplot as plt"
   ]
  },
  {
   "attachments": {},
   "cell_type": "markdown",
   "metadata": {},
   "source": []
  },
  {
   "cell_type": "code",
   "execution_count": 8,
   "metadata": {},
   "outputs": [],
   "source": [
    "G = nx.read_gpickle('/home/kevin/FCG/Malware_FCG/0002570d4a6c4355800dedf00722fd821ccd7da4a7c009c05f54ac23f0119414.gpickle')\n"
   ]
  },
  {
   "cell_type": "code",
   "execution_count": 9,
   "metadata": {},
   "outputs": [
    {
     "data": {
      "text/plain": [
       "NodeView(('entry0', 'fcn.000252e8', 'fcn.0002a234', 'main', 'fcn.0000a048', 'fcn.00019fe8', 'fcn.0001ad3c', 'fcn.00019ff8', 'fcn.0001b78c', 'fcn.0003dab8', 'fcn.00009f38', 'fcn.0001a18c', 'fcn.00009cbc', 'fcn.00019874', 'fcn.0002ac60', 'fcn.00040550', 'fcn.00018ed0', 'fcn.0002a008', 'fcn.00015614', 'fcn.00013d30', 'fcn.00011a8c', 'fcn.0003ee30', 'fcn.0000ca1c', 'fcn.00030d0c', 'fcn.0002a180', 'fcn.00041380', 'fcn.00045b14', 'fcn.000465a4', 'fcn.00019a9c', 'fcn.0002af78', 'fcn.000466c0', 'fcn.00029f30', 'fcn.00025a40', 'fcn.00031bc8', 'fcn.00025650', 'fcn.00014da4', 'fcn.00040d70', 'fcn.00040310', 'fcn.00052304', 'fcn.000317f0', 'fcn.00018b10', 'fcn.0003eb20', 'fcn.00019fa8', 'fcn.0002a0d0', 'fcn.000368f0', 'fcn.000088b0', 'fcn.00008580', 'fcn.00008b68', 'fcn.00008aac', 'fcn.000086f4', 'fcn.000087a4', 'fcn.00008fd0', 'fcn.000091cc', 'fcn.00008ec0', 'fcn.00008e10', 'fcn.0001d360', 'fcn.00039d2c', 'fcn.00039578', 'fcn.000549ac', 'fcn.0008aff8', 'fcn.0008af04', 'fcn.00031800', 'fcn.000542dc', 'fcn.0003f678', 'fcn.0003de40', 'fcn.00041c88', 'fcn.00043620', 'fcn.00043708', 'fcn.00041db0', 'fcn.00041d00', 'fcn.00038410', 'fcn.00041df0', 'fcn.00038340', 'fcn.00008228', 'fcn.0008b80c', 'fcn.0008b9a8', 'fcn.0008b57c', 'fcn.0008b774', 'fcn.0001a6a4', 'fcn.0003e3f4', 'fcn.0001c88c', 'fcn.0001c598', 'fcn.0001bd7c', 'fcn.0001bbe0', 'fcn.0001adc4', 'fcn.0001cbb8', 'fcn.0001a38c', 'fcn.0001f850', 'fcn.0001f92c', 'fcn.0001b40c', 'fcn.0001d45c', 'fcn.0003fcd4', 'fcn.0003ff60', 'fcn.000185a8', 'fcn.00030c88', 'fcn.0003ca68', 'fcn.00035818', 'fcn.00034f20', 'fcn.0003085c', 'fcn.00037124', 'fcn.00009b4c', 'fcn.0002fbf8', 'fcn.0003053c', 'fcn.000315ac', 'fcn.0002f4a0', 'fcn.000473cc', 'fcn.00035f4c', 'fcn.00034fec', 'fcn.00019330', 'fcn.0002ee80', 'fcn.0003fc10', 'fcn.00040390', 'unk.0x2e988', 'fcn.00042c78', 'fcn.00042c08', 'fcn.00041030', 'fcn.00041280', 'fcn.0003d23c', 'fcn.00025a50', 'fcn.0002f208', 'fcn.00030f64', 'fcn.000357ac', 'fcn.00037b4c', 'fcn.00055c60', 'fcn.00035690', 'fcn.0003e094', 'fcn.0003dae8', 'fcn.0003f5b0', 'fcn.0003fb8c', 'fcn.0003fbd0', 'fcn.0002b274', 'fcn.0002b544', 'fcn.0008bf54', 'fcn.0008bf24', 'fcn.0008beb4', 'fcn.0002b7ac', 'fcn.0002afbc', 'fcn.0002b45c', 'fcn.0008bf9c', 'fcn.0008bf14', 'fcn.0003ffd0', 'fcn.00035ed0', 'fcn.00035b40', 'fcn.00035b60', 'fcn.00035b58', 'fcn.00035b50', 'fcn.00035b64', 'fcn.00035d08', 'fcn.00018768', 'fcn.000186f8', 'fcn.00019884', 'fcn.000457a8', 'fcn.00015424', 'fcn.00045a38', 'fcn.00041dd0', 'fcn.00045714', 'fcn.00019e34', 'fcn.000152e4', 'fcn.00016814', 'fcn.00018580', 'fcn.00018550', 'fcn.00016294', 'fcn.00043968', 'fcn.00075b28', 'fcn.00043b8c', 'fcn.0002f310', 'fcn.0003dd34', 'fcn.0002f3b4', 'fcn.0003119c', 'fcn.00040fd0', 'fcn.0002f7e4', 'unk.0x2f298', 'fcn.0001e1e0', 'fcn.0001d3a0', 'fcn.0001df80', 'fcn.0001e36c', 'fcn.0001d7f4', 'fcn.0000b1b8', 'fcn.00018f80', 'fcn.00041300', 'fcn.0002f19c', 'fcn.0005570c', 'fcn.0003dc80', 'fcn.00025b3c', 'fcn.0002f1d8', 'fcn.00031750', 'fcn.00035744', 'fcn.00035b80', 'fcn.0004390c', 'fcn.000192a0', 'fcn.00018e20', 'fcn.000140c8', 'fcn.0000c1ec', 'fcn.0000c3d4', 'fcn.00019240', 'fcn.0003e230', 'fcn.0006bf64', 'fcn.0006bf24', 'fcn.0002a1f0', 'fcn.0002c200', 'fcn.0002c808', 'fcn.000525d8', 'fcn.0002eee8', 'fcn.0002c25c', 'fcn.000524dc', 'fcn.0003edc8', 'fcn.0002c588', 'fcn.00054300', 'fcn.00052560', 'fcn.0008bb40', 'fcn.0008baac', 'fcn.0003107c', 'fcn.000313d0', 'fcn.00036380', 'fcn.0002ff9c', 'fcn.0003514c', 'fcn.0003a47c', 'fcn.0003a81c', 'fcn.0003a2d0', 'fcn.00036e60', 'fcn.00034d9c', 'fcn.0003e0e0', 'fcn.0003ebb0', 'fcn.0003f8b8', 'fcn.0008d044', 'fcn.0000c768', 'fcn.0002a21c', 'fcn.0002b7bc', 'fcn.0002b8a4', 'fcn.0000b5bc', 'fcn.00042bc0', 'fcn.0003ec64', 'fcn.000438f8', 'fcn.00041260', 'fcn.00042b60', 'fcn.00042b90', 'fcn.0000c884', 'fcn.0003dea0', 'fcn.000190e0', 'fcn.00019030', 'fcn.00009510', 'fcn.0000aba8', 'fcn.00009478', 'unk.0x1d6c4', 'fcn.00009f0c', 'fcn.0000b228', 'fcn.0003dc2c', 'fcn.0000d03c', 'fcn.0003fbf0', 'fcn.00042b40', 'fcn.0002a204', 'fcn.0002f268', 'fcn.00031004', 'fcn.0005d86c', 'fcn.0006c450', 'fcn.00035854', 'fcn.00083124', 'fcn.00072c90', 'fcn.0002b7f8', 'fcn.0002b86c', 'fcn.00083198', 'fcn.0006c480', 'fcn.0002c230', 'fcn.0008394c', 'fcn.000838f0', 'fcn.00072d24', 'fcn.0006c664', 'fcn.0000c4b0', 'fcn.0008bae0', 'fcn.0008bac8', 'fcn.0008ba28', 'fcn.0008bf6c', 'fcn.0000a0f0', 'fcn.0008bdc8', 'fcn.00040570', 'fcn.000411a0', 'fcn.00041298', 'fcn.0006e370', 'fcn.00040d30', 'fcn.0004299c', 'fcn.000428d8', 'fcn.000427a8', 'fcn.000427b4', 'fcn.000427c0', 'fcn.0000d898', 'fcn.000097f4', 'fcn.0008b47c', 'fcn.0008b168', 'fcn.0008bb58', 'fcn.0008b4c8', 'fcn.0008b16c', 'fcn.0000da0c', 'fcn.0001baa0', 'fcn.0001ab3c', 'fcn.0001cc84', 'fcn.0001ca9c', 'fcn.0001bf1c', 'fcn.0003e870', 'fcn.0001b220', 'fcn.0001b1bc', 'fcn.0001ae1c', 'fcn.0001a434', 'fcn.0001fbc0', 'fcn.00020114', 'fcn.0001c100', 'fcn.0001bf44', 'fcn.0002015c', 'fcn.0001b488', 'fcn.00009a30', 'fcn.0001a104', 'fcn.0001a674', 'fcn.00043194', 'fcn.00042fb8', 'fcn.0002b830', 'fcn.0000e9a4', 'fcn.00016778', 'fcn.0001ac44', 'fcn.0001c1a4', 'fcn.0000e0f8', 'fcn.0001a0b0', 'fcn.0001b94c', 'fcn.0001419c', 'fcn.0001409c', 'fcn.0001a0f8', 'fcn.0001b674', 'fcn.0001b894', 'fcn.00014120', 'fcn.0001b764', 'fcn.00014260', 'fcn.000191a0', 'fcn.0002f16c', 'fcn.00009de0', 'fcn.0000c26c', 'fcn.0003f524', 'fcn.000142dc', 'fcn.000438d8', 'fcn.0000c37c', 'fcn.0000c43c', 'fcn.00041180', 'fcn.0003dfb4', 'fcn.00014390', 'fcn.0003f208', 'fcn.0003f0d0', 'fcn.00045a8c', 'fcn.00015238', 'fcn.00042a10', 'fcn.0003c5b8', 'fcn.00045988', 'fcn.0002f238', 'fcn.0002fa14', 'fcn.00040e00', 'fcn.0008d08c', 'fcn.0008c070', 'fcn.00029f40', 'fcn.00018a64', 'fcn.00019340', 'fcn.00040cb0', 'fcn.00040c70', 'fcn.000194d0', 'fcn.00040c90', 'fcn.00019498', 'fcn.00018d1c', 'fcn.0008c9ac', 'fcn.00029fe0', 'fcn.00029f80', 'fcn.00040cf0', 'fcn.00040d10', 'fcn.00025720', 'fcn.000411e4', 'fcn.00019e3c', 'fcn.00042f84', 'fcn.00042dc4', 'fcn.0001a9f8', 'fcn.000200a4', 'fcn.0001af14', 'fcn.0001b5bc', 'fcn.0001c3d0', 'fcn.00016970', 'fcn.00018044', 'fcn.0008d020', 'fcn.00020764', 'fcn.0001e264', 'fcn.0008ca24', 'fcn.0001dbf4', 'fcn.0008c078', 'fcn.0001e24c', 'fcn.0001cf4c', 'fcn.0001e174', 'fcn.0001d080', 'fcn.0001e12c', 'fcn.0008caf0', 'fcn.0008c9c8', 'fcn.0008cf24', 'fcn.0008c864', 'fcn.0008d00c', 'fcn.0008cff8', 'fcn.0008cf48', 'fcn.0008cf50', 'fcn.0008cf60', 'fcn.0008cfb4', 'fcn.0008cf70', 'fcn.0008cf68', 'fcn.0008cf40', 'fcn.0008cf58', 'fcn.00020b24', 'fcn.00018154', 'fcn.000181f0', 'fcn.0001e288', 'fcn.0001d46c', 'fcn.0001e2bc', 'fcn.0008d068', 'fcn.00020688', 'fcn.0001dafc', 'fcn.0008c07c', 'fcn.0001f134', 'fcn.0002ad58', 'fcn.0001ddac', 'fcn.0008cad0', 'fcn.0008c4ac', 'fcn.0008c718', 'fcn.0001de34', 'fcn.0008d198', 'fcn.0008bfc8', 'fcn.0008d148', 'fcn.0008d140', 'fcn.0001e454', 'fcn.0008d150', 'fcn.0001e4d0', 'fcn.0008d870', 'fcn.0008d1cc', 'fcn.0008c01c', 'fcn.0008cb58', 'fcn.0008d0d4', 'fcn.0001d618', 'fcn.00020234', 'fcn.0001d0f8', 'fcn.00020394', 'fcn.0001fca4', 'fcn.0001ffcc', 'fcn.0001ff94', 'fcn.00020014', 'fcn.0002005c', 'fcn.0001ff5c', 'fcn.000200dc', 'fcn.000201a4', 'fcn.000201ec', 'fcn.0001e298', 'fcn.00020cb4', 'fcn.000252cc', 'fcn.0002516c', 'fcn.00024eb4', 'fcn.000301b0', 'fcn.0002ffa4', 'fcn.000311e0', 'fcn.00021174', 'fcn.00020ee8', 'fcn.0002175c', 'fcn.000215e4', 'fcn.0002127c', 'fcn.00022e90', 'fcn.00021328', 'fcn.00022258', 'fcn.00022f84', 'fcn.00022c5c', 'fcn.00021068', 'fcn.00022ae8', 'fcn.00022024', 'fcn.00022394', 'fcn.00021e98', 'fcn.000210e8', 'fcn.0003be54', 'fcn.000394d8', 'fcn.00039458', 'fcn.00042b10', 'fcn.000248a4', 'fcn.000246e4', 'fcn.00024a0c', 'fcn.000235e0', 'fcn.00023844', 'fcn.00023540', 'fcn.00021584', 'fcn.000234a8', 'fcn.00024cb0', 'fcn.00024e00', 'fcn.00045454', 'fcn.00052214', 'fcn.00046500', 'fcn.00045de4', 'fcn.000429b4', 'fcn.00040ed4', 'fcn.00040d90', 'unk.0x25548', 'fcn.00072670', 'fcn.00008114', 'fcn.00008168', 'fcn.000315bc', 'fcn.00063cd0', 'fcn.00036e58', 'fcn.00026a34', 'fcn.000520e4', 'fcn.00041f70', 'fcn.0003dbf8', 'fcn.0003ed34', 'fcn.0002ab38', 'fcn.00027140', 'fcn.00025da4', 'fcn.000269d4', 'fcn.00042574', 'fcn.00025b68', 'fcn.000273bc', 'fcn.00029dc8', 'fcn.00029ef0', 'fcn.00046fc4', 'fcn.00046564', 'fcn.0003dc4c', 'fcn.00046790', 'fcn.00047ee0', 'fcn.0004f008', 'fcn.0006bfd4', 'fcn.00047458', 'fcn.00028de8', 'fcn.00028a4c', 'fcn.00029208', 'fcn.00041e10', 'fcn.0003f7c4', 'fcn.0003f780', 'fcn.000285d8', 'fcn.0002a4d8', 'fcn.00028c00', 'fcn.00029530', 'fcn.00031be4', 'fcn.0002ab18', 'fcn.0002a824', 'fcn.0002a550', 'fcn.00053690', 'fcn.0003ed64', 'fcn.0006be18', 'fcn.00029418', 'fcn.0002946c', 'fcn.0002bd60', 'fcn.00036c34', 'fcn.00040cd0', 'fcn.0002b348', 'fcn.0008b140', 'fcn.0002b674', 'fcn.0008b020', 'fcn.0008bfb4', 'fcn.0005296c', 'fcn.000826e0', 'fcn.00053008', 'fcn.000523f8', 'fcn.00053638', 'fcn.00033134', 'fcn.0006a9e0', 'fcn.0006cf10', 'fcn.0006879c', 'fcn.0004ff70', 'fcn.0007fc90', 'fcn.0004206c', 'unk.0x41fc8', 'fcn.0004f6c8', 'fcn.00035fb8', 'fcn.0006b408', 'fcn.0006bbfc', 'fcn.00032a60', 'fcn.0003403c', 'fcn.000303f4', 'fcn.0003e2b4', 'fcn.00035604', 'fcn.000360a0', 'fcn.000403d4', 'fcn.00041010', 'fcn.00040ff0', 'fcn.00072b9c', 'fcn.00046178', 'fcn.0003370c', 'fcn.00033508', 'fcn.00041d50', 'fcn.00042aa0', 'fcn.00033b00', 'fcn.00033734', 'fcn.00033d4c', 'fcn.0006b4d0', 'fcn.0006b494', 'fcn.0003f80c', 'fcn.00036474', 'fcn.00035fd8', 'fcn.0003590c', 'fcn.00035bf4', 'fcn.00034d14', 'fcn.00037454', 'fcn.0003f860', 'fcn.00036234', 'fcn.0003760c', 'fcn.00038d88', 'fcn.000389d0', 'fcn.00042d70', 'fcn.00038934', 'fcn.000386e4', 'fcn.00037e3c', 'fcn.00037d14', 'fcn.000387f0', 'fcn.0003b9d4', 'fcn.0003b7e4', 'fcn.0003b6c8', 'fcn.00039e80', 'fcn.0003cdec', 'fcn.00018450', 'fcn.0004f920', 'fcn.00047564', 'fcn.00048bc0', 'fcn.0003f930', 'fcn.0006def8', 'fcn.000720dc', 'fcn.00072218', 'fcn.000721a0', 'fcn.0008b018', 'fcn.000414ac', 'fcn.00041528', 'fcn.0006abb4', 'fcn.0006d2ec', 'fcn.0006e09c', 'fcn.0008707c', 'fcn.0006e44c', 'fcn.0006d670', 'fcn.000717b8', 'fcn.0006fa64', 'fcn.0006e278', 'fcn.000719b0', 'fcn.00087c84', 'fcn.00071e14', 'fcn.00069cb4', 'fcn.0006a3b4', 'fcn.0006adf8', 'fcn.00043410', 'fcn.00072d8c', 'unk.0x72b04', 'fcn.00041cc8', 'fcn.00041718', 'fcn.00072398', 'fcn.0005d83c', 'fcn.0006ad30', 'fcn.00042080', 'fcn.00071f98', 'fcn.00087cac', 'fcn.00072dcc', 'fcn.0007310c', 'fcn.00072e98', 'fcn.0008820c', 'fcn.00072e7c', 'fcn.00087ce8', 'fcn.000764a0', 'fcn.00046108', 'fcn.000431bc', 'fcn.00075500', 'fcn.000446ac', 'fcn.00075aa4', 'fcn.00073d14', 'fcn.00074998', 'fcn.00074a28', 'fcn.00043e8c', 'fcn.00045104', 'fcn.00044bd4', 'fcn.00044b08', 'fcn.00044d0c', 'fcn.00045284', 'fcn.0004484c', 'fcn.00074d78', 'fcn.00075624', 'fcn.000779c4', 'fcn.000744f8', 'fcn.00086fdc', 'fcn.00074178', 'fcn.00074038', 'fcn.00074268', 'fcn.00044d5c', 'fcn.00077af8', 'unk.0xbefc4', 'fcn.000448fc', 'fcn.00044720', 'fcn.000724c4', 'fcn.00072c20', 'fcn.00072910', 'unk.0x72878', 'fcn.0007f490', 'fcn.0007fb54', 'fcn.0007ae74', 'fcn.00045dbc', 'fcn.00079198', 'fcn.00053c1c', 'fcn.000723f8', 'fcn.000723e4', 'fcn.00072420', 'fcn.0007240c', 'fcn.00072480', 'fcn.0004ef38', 'fcn.000487a0', 'fcn.0004f7d4', 'fcn.0004f6e8', 'fcn.0004fd54', 'fcn.00069f68', 'fcn.0004828c', 'fcn.000486e4', 'fcn.00048380', 'fcn.00050038', 'fcn.000825ac', 'fcn.00082418', 'fcn.00049060', 'fcn.0004f854', 'fcn.000823a8', 'fcn.000824b8', 'fcn.0008693c', 'fcn.0007f3b0', 'fcn.00082468', 'fcn.00082408', 'fcn.00050b18', 'fcn.000516d8', 'fcn.000509d8', 'fcn.000472d0', 'fcn.000513b0', 'fcn.0006bdd8', 'fcn.000501dc', 'fcn.0006c024', 'fcn.0006c0fc', 'fcn.00051050', 'fcn.00052474', 'fcn.00053524', 'fcn.00052ee8', 'fcn.00052b00', 'fcn.000529ec', 'fcn.0006cb94', 'fcn.0005c49c', 'fcn.000826a8', 'fcn.0008266c', 'fcn.000826d8', 'fcn.00085d5c', 'fcn.00054ab0', 'fcn.0006af00', 'fcn.0006a2d8', 'fcn.00059ffc', 'fcn.0008baf8', 'fcn.00082f68', 'fcn.00059c2c', 'fcn.00059c90', 'fcn.0006c2dc', 'fcn.00059e00', 'fcn.0006c1c0', 'fcn.0006c1d4', 'fcn.00068a00', 'fcn.00055a64', 'fcn.0006c8c4', 'fcn.0006ce4c', 'fcn.0006c244', 'fcn.00055948', 'fcn.00076210', 'fcn.0008276c', 'fcn.000535a0', 'fcn.0003faf8', 'fcn.000831d0', 'fcn.00085d4c', 'fcn.00083e10', 'fcn.00083978', 'fcn.00083ca4', 'fcn.0006c2f0', 'fcn.0006c87c', 'fcn.0006cf40', 'fcn.000692d4', 'fcn.00063abc', 'fcn.00063bb4', 'fcn.000724a0', 'fcn.00072584', 'fcn.000379cc', 'fcn.000375a8', 'fcn.00069b90', 'fcn.0006b5ac', 'fcn.0006afdc', 'fcn.0006b74c', 'fcn.0006b0c4', 'fcn.0006d738', 'fcn.0006d7b0', 'fcn.0006f830', 'fcn.0006eadc', 'fcn.00072434', 'fcn.000868f0', 'fcn.00086440', 'fcn.0008663c', 'fcn.0006d860', 'fcn.0006d304', 'fcn.000356f8', 'fcn.000717e0', 'fcn.00087494', 'fcn.00071b94', 'fcn.00087054', 'fcn.00088110', 'fcn.00087db0', 'fcn.00073c40', 'fcn.000420d0', 'fcn.00074e44', 'fcn.00086428', 'fcn.00073c38', 'fcn.0007698c', 'fcn.00087d70', 'fcn.00087d90', 'fcn.00076a2c', 'fcn.000768ac', 'fcn.00076554', 'fcn.00076900', 'fcn.00077c70', 'fcn.00078114', 'fcn.000787b0', 'fcn.0007fbc8', 'fcn.0007f7a0', 'fcn.0007fb88', 'fcn.0007972c', 'fcn.0007f73c', 'fcn.0007980c', 'fcn.0007956c', 'fcn.000794a0', 'fcn.0007d7c0', 'fcn.00045478', 'fcn.0007c5d8', 'fcn.0007f740', 'fcn.00080714', 'fcn.00078fc0', 'fcn.00078ec4', 'fcn.0007b2dc', 'fcn.000790b0', 'fcn.0007b41c', 'fcn.0007a010', 'fcn.0007f6ac', 'fcn.00025680', 'fcn.0007907c', 'fcn.00079c48', 'unk.0x49e05c', 'fcn.0007c018', 'fcn.0007fc08', 'fcn.0007bee0', 'fcn.0007c858', 'unk.0x7c6a0', 'fcn.0007f604', 'fcn.0007cc0c', 'fcn.00080d0c', 'fcn.0007dabc', 'fcn.0007da54', 'fcn.0007db3c', 'fcn.0007dca0', 'fcn.00052270', 'fcn.00087f90', 'fcn.0008aa70', 'fcn.00088100', 'fcn.0007bfe4', 'fcn.000816a0', 'fcn.00089b2c', 'fcn.00081550', 'fcn.0007b784', 'fcn.00088528', 'fcn.0007b138', 'fcn.0008849c', 'fcn.0007dd68', 'fcn.00089a18', 'fcn.000898f4', 'fcn.00080b48', 'fcn.0008a368', 'fcn.00089fec', 'fcn.00045580', 'fcn.00089710', 'fcn.000894d8', 'fcn.00082220', 'fcn.000808a0', 'fcn.0008a7f4', 'fcn.00086964', 'fcn.00086a30', 'fcn.0001804c', 'fcn.00086a78', 'fcn.0007b5d4', 'fcn.00045678', 'fcn.0008adec', 'fcn.0008aadc', 'fcn.0008ae10', 'fcn.0008c79c', 'fcn.0008e32c', 'fcn.000471c8', 'fcn.0008e58c', 'fcn.0008e8cc', 'fcn.0008e7e4', 'fcn.0008eba0', 'fcn.0008e2e0', 'fcn.00050fec', 'fcn.00053b1c', 'fcn.000420c4', 'fcn.0008ee68', 'aav.0x000182cc', 'aav.0x0001841c', 'fcn.0001a334', 'fcn.0001a3a4', 'fcn.0001a41c', 'fcn.0001a514', 'fcn.0001a5a4', 'fcn.0001a718', 'fcn.0001a7b8', 'fcn.0001a860', 'fcn.0001a900', 'fcn.0001a93c', 'fcn.0001a98c', 'fcn.0001aa5c', 'fcn.0001aa84', 'fcn.0001aaac', 'fcn.0001aad4', 'fcn.0001ab08', 'fcn.0001ab28', 'fcn.0001abc4', 'fcn.0001abe8', 'fcn.0001ac0c', 'fcn.0001ac30', 'fcn.0001ace4', 'fcn.0001ad10', 'fcn.0001ad80', 'fcn.0001adf0', 'fcn.0001aebc', 'fcn.0001aee8', 'fcn.0001af84', 'fcn.0001afb0', 'fcn.0001afe4', 'fcn.0001b54c', 'fcn.0001b95c', 'fcn.0001b9bc', 'fcn.0001ba34', 'fcn.0001bb44', 'fcn.0001bee0', 'fcn.0001bfdc', 'fcn.0001c134', 'fcn.0001c170', 'fcn.0001c370', 'fcn.0001c444', 'fcn.0001c4c4', 'fcn.0001c4f8', 'fcn.0001c524', 'fcn.0001c550', 'fcn.0001c804', 'fcn.0001c84c', 'fcn.0001c8b0', 'fcn.0001c8f8', 'fcn.0001c930', 'fcn.0001cb1c', 'fcn.0001cb40', 'fcn.0001cb64', 'fcn.0001cb90', 'fcn.0001ce38', 'fcn.0001ce70', 'fcn.0001cea8', 'fcn.0001d05c', 'fcn.0001d0cc', 'fcn.0001d154', 'fcn.0001d18c', 'fcn.0001d28c', 'fcn.0001d2c4', 'fcn.0001d2fc', 'fcn.0001d334', 'fcn.0001d380', 'fcn.0001da2c', 'fcn.0001da64', 'fcn.0001da9c', 'fcn.0001dad0', 'fcn.000180e8', 'fcn.0001db38', 'fcn.0001dbb8', 'fcn.0001dc9c', 'fcn.0001dcd4', 'fcn.0001dd0c', 'fcn.0001e1bc', 'fcn.0001e414', 'fcn.0001f150', 'fcn.0001f228', 'fcn.0001f24c', 'fcn.0001f270', 'fcn.0001f29c', 'fcn.0001f2c8', 'fcn.0001f2f4', 'fcn.0001f318', 'fcn.0001f344', 'fcn.0001f368', 'fcn.0001f394', 'fcn.0001f3b8', 'fcn.0001f3e4', 'fcn.0001f408', 'fcn.0001f430', 'fcn.0001f4e0', 'fcn.0001f5bc', 'fcn.0001f698', 'fcn.0001f774', 'fcn.0001fa08', 'fcn.0001fae4', 'fcn.0001fcf0', 'aav.0x0001fd34', 'aav.0x0001fdec', 'fcn.0001fe9c', 'fcn.0001fff0', 'fcn.00020038', 'fcn.00020080', 'fcn.00020138', 'fcn.00020180', 'fcn.000201c8', 'fcn.00020210', 'aav.0x000202e4', 'aav.0x00020444', 'aav.0x000204fc', 'aav.0x000205ac', 'fcn.0002066c', 'fcn.00020870', 'fcn.000208a8', 'fcn.000208e0', 'fcn.0002093c', 'fcn.00020974', 'fcn.000209ac', 'fcn.00020a88', 'fcn.00020ac0', 'fcn.00020af8', 'fcn.00020c90', 'fcn.00020d00', 'fcn.00025138', 'fcn.00025954', 'fcn.0008f0ac', 'aav.0x00025d30', 'aav.0x00028be8', 'aav.0x0002e840', 'aav.0x00030564', 'aav.0x00031cac', 'aav.0x00031cdc', 'fcn.0006bcd8', 'aav.0x00032d0c', 'aav.0x000331dc', 'aav.0x0003338c', 'aav.0x000333d4', 'aav.0x0003349c', 'aav.0x000336d4', 'fcn.00034140', 'fcn.00034160', 'aav.0x000346a4', 'aav.0x000347a4', 'fcn.00035ca0', 'aav.0x00034d50', 'fcn.00034f68', 'fcn.00035960', 'aav.0x00035d9c', 'aav.0x000374e0', 'fcn.000375f8', 'fcn.00037bd0', 'fcn.00037c0c', 'fcn.00038f54', 'aav.0x00039c04', 'fcn.0003cdcc', 'fcn.0003d17c', 'fcn.0003d564', 'fcn.0003daa0', 'aav.0x0003f820', 'fcn.00040e74', 'fcn.000413f8', 'fcn.0004464c', 'fcn.00046590', 'aav.0x00047288', 'aav.0x000472b8', 'aav.0x0004f2d8', 'fcn.0004ffa0', 'aav.0x000501c4', 'fcn.00050abc', 'aav.0x00052058', 'fcn.00052110', 'fcn.00054274', 'fcn.00055194', 'fcn.000551f0', 'fcn.00055260', 'aav.0x000634cc', 'fcn.00063560', 'aav.0x0006a7c0', 'fcn.0006ac68', 'aav.0x0006acbc', 'aav.0x0006ae60', 'fcn.0006b26c', 'fcn.0006b954', 'aav.0x0006bc7c', 'fcn.0006bd3c', 'fcn.00071db4', 'aav.0x00071f54', 'fcn.00073cc4', 'fcn.00074e28', 'fcn.000763fc', 'fcn.0007689c', 'fcn.00078070', 'fcn.000780c8', 'fcn.00078714', 'fcn.0007876c', 'fcn.00078e18', 'fcn.00078e78', 'fcn.0007dc18', 'aav.0x000824e0', 'aav.0x000824f0', 'aav.0x0008253c', 'aav.0x000825f4', 'fcn.000830e8', 'fcn.0008315c', 'fcn.000838c0', 'fcn.0008391c', 'fcn.00085d38', 'aav.0x000869f4', 'fcn.00086ba4', 'fcn.00086d74', 'fcn.00086d8c', 'fcn.00086e0c', 'aav.0x00086f48', 'fcn.0008a920', 'aav.0x0008a940', 'fcn.0008a950', 'aav.0x0008a9b4', 'fcn.0008a9d8', 'aav.0x0008aa3c', 'aav.0x0008aa90', 'fcn.0008d0b0', 'section.libc_freeres_fn', 'aav.0x0008e400', 'fcn.0008e570', 'aav.0x0008e5f0', 'fcn.0008e764', 'aav.0x0008e794', 'aav.0x0008e7c0', 'aav.0x0008ecd8', 'fcn.0008edfc', 'fcn.0008ee24', 'fcn.0008ee4c', 'fcn.0008ef00', 'aav.0x0008ef78', 'aav.0x0008f05c'))"
      ]
     },
     "execution_count": 9,
     "metadata": {},
     "output_type": "execute_result"
    }
   ],
   "source": [
    "G.nodes"
   ]
  },
  {
   "cell_type": "code",
   "execution_count": null,
   "metadata": {},
   "outputs": [],
   "source": []
  },
  {
   "cell_type": "code",
   "execution_count": 3,
   "metadata": {},
   "outputs": [
    {
     "name": "stderr",
     "output_type": "stream",
     "text": [
      "100%|██████████| 131076/131076 [00:00<00:00, 8140437.56it/s]\n",
      "  0%|          | 0/131076 [00:00<?, ?it/s]"
     ]
    },
    {
     "name": "stderr",
     "output_type": "stream",
     "text": [
      "100%|██████████| 131076/131076 [42:56<00:00, 50.88it/s]  \n"
     ]
    }
   ],
   "source": [
    "import os\n",
    "import networkx as nx\n",
    "\n",
    "# 資料夾路徑\n",
    "folder_path = '/home/kevin/FCG/Benignware_FCG/'\n",
    "\n",
    "# 找到資料夾中的gpickle檔案\n",
    "files = [f for f in tqdm(os.listdir(folder_path)) if f.endswith('.gpickle')]\n",
    "\n",
    "# 迴圈處理每個gpickle檔案\n",
    "\n",
    "for file_name in tqdm(files):\n",
    "    if os.path.exists('/home/kevin/Gramac/new_train/ben_sym_gpickle/' + file_name):\n",
    "        continue\n",
    "    # 讀取gpickle檔案，建立圖（Graph）物件\n",
    "    G = nx.read_gpickle(os.path.join(folder_path, file_name))\n",
    "\n",
    "    # 找到以\"sym\"開頭的節點\n",
    "    nodes_to_keep = [node for node in G.nodes() if node.startswith('sym')]\n",
    "\n",
    "    # 創建新的圖物件\n",
    "    H = nx.DiGraph()\n",
    "\n",
    "    # 添加節點到新的圖中\n",
    "    H.add_nodes_from(nodes_to_keep)\n",
    "\n",
    "    # 構建新的邊\n",
    "    for edge in G.edges():\n",
    "        source, target = edge\n",
    "        if source in nodes_to_keep and target in nodes_to_keep:\n",
    "            H.add_edge(source, target)\n",
    "\n",
    "    # 存儲更新後的圖為gpickle檔\n",
    "    nx.write_gpickle(H, '/home/kevin/Gramac/new_train/ben_sym_gpickle/' + file_name)\n"
   ]
  },
  {
   "cell_type": "code",
   "execution_count": 4,
   "metadata": {},
   "outputs": [
    {
     "name": "stderr",
     "output_type": "stream",
     "text": [
      "100%|██████████| 148787/148787 [00:00<00:00, 6391809.30it/s]\n",
      "100%|██████████| 148787/148787 [11:27<00:00, 216.30it/s]\n"
     ]
    }
   ],
   "source": [
    "import os\n",
    "import networkx as nx\n",
    "\n",
    "# 資料夾路徑\n",
    "folder_path = '/home/kevin/FCG/Malware_FCG'\n",
    "\n",
    "# 找到資料夾中的gpickle檔案\n",
    "files = [f for f in tqdm(os.listdir(folder_path)) if f.endswith('.gpickle')]\n",
    "\n",
    "# 迴圈處理每個gpickle檔案\n",
    "\n",
    "for file_name in tqdm(files):\n",
    "    if os.path.exists('/home/kevin/Gramac/new_train/mal_sym_gpickle/' + file_name):\n",
    "        continue\n",
    "    # 讀取gpickle檔案，建立圖（Graph）物件\n",
    "    G = nx.read_gpickle(os.path.join(folder_path, file_name))\n",
    "\n",
    "    # 找到以\"sym\"開頭的節點\n",
    "    nodes_to_keep = [node for node in G.nodes() if node.startswith('sym')]\n",
    "\n",
    "    # 創建新的圖物件\n",
    "    H = nx.DiGraph()\n",
    "\n",
    "    # 添加節點到新的圖中\n",
    "    H.add_nodes_from(nodes_to_keep)\n",
    "\n",
    "    # 構建新的邊\n",
    "    for edge in G.edges():\n",
    "        source, target = edge\n",
    "        if source in nodes_to_keep and target in nodes_to_keep:\n",
    "            H.add_edge(source, target)\n",
    "\n",
    "    # 存儲更新後的圖為gpickle檔\n",
    "    nx.write_gpickle(H, '/home/kevin/Gramac/new_train/ben_sym_gpickle/' + file_name)\n"
   ]
  },
  {
   "cell_type": "code",
   "execution_count": 5,
   "metadata": {},
   "outputs": [
    {
     "data": {
      "text/plain": [
       "279863"
      ]
     },
     "execution_count": 5,
     "metadata": {},
     "output_type": "execute_result"
    }
   ],
   "source": [
    "folder_path = '/home/kevin/Gramac/new_train/ben_sym_gpickle/'\n",
    "\n",
    "# 找到資料夾中的gpickle檔案\n",
    "files = [f for f in os.listdir(folder_path) if f.endswith('.gpickle')]\n",
    "len(files)\n"
   ]
  },
  {
   "cell_type": "code",
   "execution_count": null,
   "metadata": {},
   "outputs": [],
   "source": []
  }
 ],
 "metadata": {
  "kernelspec": {
   "display_name": "base",
   "language": "python",
   "name": "python3"
  },
  "language_info": {
   "codemirror_mode": {
    "name": "ipython",
    "version": 3
   },
   "file_extension": ".py",
   "mimetype": "text/x-python",
   "name": "python",
   "nbconvert_exporter": "python",
   "pygments_lexer": "ipython3",
   "version": "3.9.7"
  },
  "orig_nbformat": 4
 },
 "nbformat": 4,
 "nbformat_minor": 2
}
